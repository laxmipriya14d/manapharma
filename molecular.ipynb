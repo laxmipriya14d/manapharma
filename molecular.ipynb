{
 "cells": [
  {
   "cell_type": "code",
   "execution_count": 2,
   "id": "3f40fadb-edf1-44c4-a1a2-25818ce15a21",
   "metadata": {},
   "outputs": [
    {
     "data": {
      "text/html": [
       "<div>\n",
       "<style scoped>\n",
       "    .dataframe tbody tr th:only-of-type {\n",
       "        vertical-align: middle;\n",
       "    }\n",
       "\n",
       "    .dataframe tbody tr th {\n",
       "        vertical-align: top;\n",
       "    }\n",
       "\n",
       "    .dataframe thead th {\n",
       "        text-align: right;\n",
       "    }\n",
       "</style>\n",
       "<table border=\"1\" class=\"dataframe\">\n",
       "  <thead>\n",
       "    <tr style=\"text-align: right;\">\n",
       "      <th></th>\n",
       "      <th>CID</th>\n",
       "      <th>MolecularWeight</th>\n",
       "      <th>XLogP</th>\n",
       "      <th>InChIKey</th>\n",
       "      <th>CanonicalSMILES</th>\n",
       "    </tr>\n",
       "  </thead>\n",
       "  <tbody>\n",
       "    <tr>\n",
       "      <th>0</th>\n",
       "      <td>2244</td>\n",
       "      <td>180.16</td>\n",
       "      <td>1.2</td>\n",
       "      <td>BSYNRYMUTXBXSQ-UHFFFAOYSA-N</td>\n",
       "      <td>CC(=O)OC1=CC=CC=C1C(=O)O</td>\n",
       "    </tr>\n",
       "    <tr>\n",
       "      <th>1</th>\n",
       "      <td>1983</td>\n",
       "      <td>151.16</td>\n",
       "      <td>0.5</td>\n",
       "      <td>RZVAJINKPMORJF-UHFFFAOYSA-N</td>\n",
       "      <td>CC(=O)NC1=CC=C(C=C1)O</td>\n",
       "    </tr>\n",
       "    <tr>\n",
       "      <th>2</th>\n",
       "      <td>702</td>\n",
       "      <td>46.07</td>\n",
       "      <td>-0.1</td>\n",
       "      <td>LFQSCWFLJHTTHZ-UHFFFAOYSA-N</td>\n",
       "      <td>CCO</td>\n",
       "    </tr>\n",
       "    <tr>\n",
       "      <th>3</th>\n",
       "      <td>6322</td>\n",
       "      <td>174.20</td>\n",
       "      <td>-4.2</td>\n",
       "      <td>ODKSFYDXXFIFQN-BYPYZUCNSA-N</td>\n",
       "      <td>C(CC(C(=O)O)N)CN=C(N)N</td>\n",
       "    </tr>\n",
       "    <tr>\n",
       "      <th>4</th>\n",
       "      <td>5957</td>\n",
       "      <td>507.18</td>\n",
       "      <td>-5.7</td>\n",
       "      <td>ZKHQWZAMYRWXGA-KQYNXXCUSA-N</td>\n",
       "      <td>C1=NC(=C2C(=N1)N(C=N2)C3C(C(C(O3)COP(=O)(O)OP(...</td>\n",
       "    </tr>\n",
       "  </tbody>\n",
       "</table>\n",
       "</div>"
      ],
      "text/plain": [
       "    CID  MolecularWeight  XLogP                     InChIKey  \\\n",
       "0  2244           180.16    1.2  BSYNRYMUTXBXSQ-UHFFFAOYSA-N   \n",
       "1  1983           151.16    0.5  RZVAJINKPMORJF-UHFFFAOYSA-N   \n",
       "2   702            46.07   -0.1  LFQSCWFLJHTTHZ-UHFFFAOYSA-N   \n",
       "3  6322           174.20   -4.2  ODKSFYDXXFIFQN-BYPYZUCNSA-N   \n",
       "4  5957           507.18   -5.7  ZKHQWZAMYRWXGA-KQYNXXCUSA-N   \n",
       "\n",
       "                                     CanonicalSMILES  \n",
       "0                           CC(=O)OC1=CC=CC=C1C(=O)O  \n",
       "1                              CC(=O)NC1=CC=C(C=C1)O  \n",
       "2                                                CCO  \n",
       "3                             C(CC(C(=O)O)N)CN=C(N)N  \n",
       "4  C1=NC(=C2C(=N1)N(C=N2)C3C(C(C(O3)COP(=O)(O)OP(...  "
      ]
     },
     "execution_count": 2,
     "metadata": {},
     "output_type": "execute_result"
    }
   ],
   "source": [
    "import pandas as pd\n",
    "df = pd.read_csv('CSV.csv')\n",
    "df.head()\n"
   ]
  },
  {
   "cell_type": "code",
   "execution_count": 3,
   "id": "8254b1de-978f-4b5f-8d1c-49a8b6dad1ae",
   "metadata": {},
   "outputs": [
    {
     "name": "stdout",
     "output_type": "stream",
     "text": [
      "<class 'pandas.core.frame.DataFrame'>\n",
      "RangeIndex: 5 entries, 0 to 4\n",
      "Data columns (total 5 columns):\n",
      " #   Column           Non-Null Count  Dtype  \n",
      "---  ------           --------------  -----  \n",
      " 0   CID              5 non-null      int64  \n",
      " 1   MolecularWeight  5 non-null      float64\n",
      " 2   XLogP            5 non-null      float64\n",
      " 3   InChIKey         5 non-null      object \n",
      " 4   CanonicalSMILES  5 non-null      object \n",
      "dtypes: float64(2), int64(1), object(2)\n",
      "memory usage: 332.0+ bytes\n",
      "None\n",
      "CID                0\n",
      "MolecularWeight    0\n",
      "XLogP              0\n",
      "InChIKey           0\n",
      "CanonicalSMILES    0\n",
      "dtype: int64\n"
     ]
    }
   ],
   "source": [
    "\n",
    "print(df.info())\n",
    "print(df.isnull().sum())\n"
   ]
  },
  {
   "cell_type": "code",
   "execution_count": 4,
   "id": "6db92b7a-bc82-4197-8d50-027c2a58905f",
   "metadata": {},
   "outputs": [
    {
     "data": {
      "text/plain": [
       "CID                0\n",
       "MolecularWeight    0\n",
       "XLogP              0\n",
       "InChIKey           0\n",
       "CanonicalSMILES    0\n",
       "dtype: int64"
      ]
     },
     "execution_count": 4,
     "metadata": {},
     "output_type": "execute_result"
    }
   ],
   "source": [
    "\n",
    "df_cleaned = df.dropna()\n",
    "df_cleaned.isnull().sum()\n"
   ]
  },
  {
   "cell_type": "code",
   "execution_count": 5,
   "id": "c4fac5d7-a1fa-4051-a659-16d8d3166346",
   "metadata": {},
   "outputs": [
    {
     "ename": "KeyError",
     "evalue": "'LogP'",
     "output_type": "error",
     "traceback": [
      "\u001b[1;31m---------------------------------------------------------------------------\u001b[0m",
      "\u001b[1;31mKeyError\u001b[0m                                  Traceback (most recent call last)",
      "File \u001b[1;32m~\\anaconda3\\Lib\\site-packages\\pandas\\core\\indexes\\base.py:3805\u001b[0m, in \u001b[0;36mIndex.get_loc\u001b[1;34m(self, key)\u001b[0m\n\u001b[0;32m   3804\u001b[0m \u001b[38;5;28;01mtry\u001b[39;00m:\n\u001b[1;32m-> 3805\u001b[0m     \u001b[38;5;28;01mreturn\u001b[39;00m \u001b[38;5;28mself\u001b[39m\u001b[38;5;241m.\u001b[39m_engine\u001b[38;5;241m.\u001b[39mget_loc(casted_key)\n\u001b[0;32m   3806\u001b[0m \u001b[38;5;28;01mexcept\u001b[39;00m \u001b[38;5;167;01mKeyError\u001b[39;00m \u001b[38;5;28;01mas\u001b[39;00m err:\n",
      "File \u001b[1;32mindex.pyx:167\u001b[0m, in \u001b[0;36mpandas._libs.index.IndexEngine.get_loc\u001b[1;34m()\u001b[0m\n",
      "File \u001b[1;32mindex.pyx:196\u001b[0m, in \u001b[0;36mpandas._libs.index.IndexEngine.get_loc\u001b[1;34m()\u001b[0m\n",
      "File \u001b[1;32mpandas\\\\_libs\\\\hashtable_class_helper.pxi:7081\u001b[0m, in \u001b[0;36mpandas._libs.hashtable.PyObjectHashTable.get_item\u001b[1;34m()\u001b[0m\n",
      "File \u001b[1;32mpandas\\\\_libs\\\\hashtable_class_helper.pxi:7089\u001b[0m, in \u001b[0;36mpandas._libs.hashtable.PyObjectHashTable.get_item\u001b[1;34m()\u001b[0m\n",
      "\u001b[1;31mKeyError\u001b[0m: 'LogP'",
      "\nThe above exception was the direct cause of the following exception:\n",
      "\u001b[1;31mKeyError\u001b[0m                                  Traceback (most recent call last)",
      "Cell \u001b[1;32mIn[5], line 4\u001b[0m\n\u001b[0;32m      1\u001b[0m \u001b[38;5;28;01mimport\u001b[39;00m \u001b[38;5;21;01mmatplotlib\u001b[39;00m\u001b[38;5;21;01m.\u001b[39;00m\u001b[38;5;21;01mpyplot\u001b[39;00m \u001b[38;5;28;01mas\u001b[39;00m \u001b[38;5;21;01mplt\u001b[39;00m\n\u001b[0;32m      3\u001b[0m plt\u001b[38;5;241m.\u001b[39mfigure(figsize\u001b[38;5;241m=\u001b[39m(\u001b[38;5;241m8\u001b[39m,\u001b[38;5;241m6\u001b[39m))\n\u001b[1;32m----> 4\u001b[0m plt\u001b[38;5;241m.\u001b[39mscatter(df_cleaned[\u001b[38;5;124m'\u001b[39m\u001b[38;5;124mMolecularWeight\u001b[39m\u001b[38;5;124m'\u001b[39m], df_cleaned[\u001b[38;5;124m'\u001b[39m\u001b[38;5;124mLogP\u001b[39m\u001b[38;5;124m'\u001b[39m], color\u001b[38;5;241m=\u001b[39m\u001b[38;5;124m'\u001b[39m\u001b[38;5;124mteal\u001b[39m\u001b[38;5;124m'\u001b[39m)\n\u001b[0;32m      5\u001b[0m plt\u001b[38;5;241m.\u001b[39mxlabel(\u001b[38;5;124m'\u001b[39m\u001b[38;5;124mMolecular Weight\u001b[39m\u001b[38;5;124m'\u001b[39m)\n\u001b[0;32m      6\u001b[0m plt\u001b[38;5;241m.\u001b[39mylabel(\u001b[38;5;124m'\u001b[39m\u001b[38;5;124mLogP\u001b[39m\u001b[38;5;124m'\u001b[39m)\n",
      "File \u001b[1;32m~\\anaconda3\\Lib\\site-packages\\pandas\\core\\frame.py:4102\u001b[0m, in \u001b[0;36mDataFrame.__getitem__\u001b[1;34m(self, key)\u001b[0m\n\u001b[0;32m   4100\u001b[0m \u001b[38;5;28;01mif\u001b[39;00m \u001b[38;5;28mself\u001b[39m\u001b[38;5;241m.\u001b[39mcolumns\u001b[38;5;241m.\u001b[39mnlevels \u001b[38;5;241m>\u001b[39m \u001b[38;5;241m1\u001b[39m:\n\u001b[0;32m   4101\u001b[0m     \u001b[38;5;28;01mreturn\u001b[39;00m \u001b[38;5;28mself\u001b[39m\u001b[38;5;241m.\u001b[39m_getitem_multilevel(key)\n\u001b[1;32m-> 4102\u001b[0m indexer \u001b[38;5;241m=\u001b[39m \u001b[38;5;28mself\u001b[39m\u001b[38;5;241m.\u001b[39mcolumns\u001b[38;5;241m.\u001b[39mget_loc(key)\n\u001b[0;32m   4103\u001b[0m \u001b[38;5;28;01mif\u001b[39;00m is_integer(indexer):\n\u001b[0;32m   4104\u001b[0m     indexer \u001b[38;5;241m=\u001b[39m [indexer]\n",
      "File \u001b[1;32m~\\anaconda3\\Lib\\site-packages\\pandas\\core\\indexes\\base.py:3812\u001b[0m, in \u001b[0;36mIndex.get_loc\u001b[1;34m(self, key)\u001b[0m\n\u001b[0;32m   3807\u001b[0m     \u001b[38;5;28;01mif\u001b[39;00m \u001b[38;5;28misinstance\u001b[39m(casted_key, \u001b[38;5;28mslice\u001b[39m) \u001b[38;5;129;01mor\u001b[39;00m (\n\u001b[0;32m   3808\u001b[0m         \u001b[38;5;28misinstance\u001b[39m(casted_key, abc\u001b[38;5;241m.\u001b[39mIterable)\n\u001b[0;32m   3809\u001b[0m         \u001b[38;5;129;01mand\u001b[39;00m \u001b[38;5;28many\u001b[39m(\u001b[38;5;28misinstance\u001b[39m(x, \u001b[38;5;28mslice\u001b[39m) \u001b[38;5;28;01mfor\u001b[39;00m x \u001b[38;5;129;01min\u001b[39;00m casted_key)\n\u001b[0;32m   3810\u001b[0m     ):\n\u001b[0;32m   3811\u001b[0m         \u001b[38;5;28;01mraise\u001b[39;00m InvalidIndexError(key)\n\u001b[1;32m-> 3812\u001b[0m     \u001b[38;5;28;01mraise\u001b[39;00m \u001b[38;5;167;01mKeyError\u001b[39;00m(key) \u001b[38;5;28;01mfrom\u001b[39;00m \u001b[38;5;21;01merr\u001b[39;00m\n\u001b[0;32m   3813\u001b[0m \u001b[38;5;28;01mexcept\u001b[39;00m \u001b[38;5;167;01mTypeError\u001b[39;00m:\n\u001b[0;32m   3814\u001b[0m     \u001b[38;5;66;03m# If we have a listlike key, _check_indexing_error will raise\u001b[39;00m\n\u001b[0;32m   3815\u001b[0m     \u001b[38;5;66;03m#  InvalidIndexError. Otherwise we fall through and re-raise\u001b[39;00m\n\u001b[0;32m   3816\u001b[0m     \u001b[38;5;66;03m#  the TypeError.\u001b[39;00m\n\u001b[0;32m   3817\u001b[0m     \u001b[38;5;28mself\u001b[39m\u001b[38;5;241m.\u001b[39m_check_indexing_error(key)\n",
      "\u001b[1;31mKeyError\u001b[0m: 'LogP'"
     ]
    },
    {
     "data": {
      "text/plain": [
       "<Figure size 800x600 with 0 Axes>"
      ]
     },
     "metadata": {},
     "output_type": "display_data"
    }
   ],
   "source": [
    "import matplotlib.pyplot as plt\n",
    "\n",
    "plt.figure(figsize=(8,6))\n",
    "plt.scatter(df_cleaned['MolecularWeight'], df_cleaned['LogP'], color='teal')\n",
    "plt.xlabel('Molecular Weight')\n",
    "plt.ylabel('LogP')\n",
    "plt.title('Molecular Weight vs LogP')\n",
    "plt.grid(True)\n",
    "plt.show()\n"
   ]
  },
  {
   "cell_type": "code",
   "execution_count": 6,
   "id": "972daea4-d2f3-4d3b-a76f-5cd407d72ada",
   "metadata": {},
   "outputs": [
    {
     "name": "stdout",
     "output_type": "stream",
     "text": [
      "Index(['CID', 'MolecularWeight', 'XLogP', 'InChIKey', 'CanonicalSMILES'], dtype='object')\n"
     ]
    }
   ],
   "source": [
    "print(df.columns)\n"
   ]
  },
  {
   "cell_type": "code",
   "execution_count": null,
   "id": "4635c9d6-b786-447e-9249-4fcab3c09889",
   "metadata": {},
   "outputs": [],
   "source": []
  },
  {
   "cell_type": "code",
   "execution_count": null,
   "id": "65cabf2e-da3c-4279-8086-32ebf5a88665",
   "metadata": {},
   "outputs": [],
   "source": []
  },
  {
   "cell_type": "code",
   "execution_count": 11,
   "id": "e995ac65-1270-44f3-9585-3a7fd8aa85ad",
   "metadata": {},
   "outputs": [
    {
     "data": {
      "image/png": "[encoded data removed]",
      "text/plain": [
       "<Figure size 800x600 with 1 Axes>"
      ]
     },
     "metadata": {},
     "output_type": "display_data"
    }
   ],
   "source": [
    "plt.figure(figsize=(8,6))\n",
    "plt.scatter(df_cleaned['MolecularWeight'], df_cleaned['XLogP'], color='teal')\n",
    "plt.xlabel('Molecular Weight')\n",
    "plt.ylabel('XLogP')\n",
    "plt.title('Molecular Weight vs LogP')\n",
    "plt.grid(True)\n",
    "plt.show()\n"
   ]
  },
  {
   "cell_type": "markdown",
   "id": "46d56d5d-971d-4d85-827c-08b589bed1f6",
   "metadata": {},
   "source": [
    "### Explanation:\n",
    "\n",
    "The graph shows the relationship between **Molecular Weight** and **XLogP** for a set of drug-like compounds.\n",
    "\n",
    "- Compounds with **lower molecular weights** have **XLogP values close to zero or positive**, meaning they are **more lipophilic** and could dissolve better in **organic solvents**.\n",
    "- Compounds with **higher molecular weights** tend to have **very negative XLogP values**, indicating they are **more hydrophilic** and may prefer **polar solvents** like water or ethanol.\n",
    "\n",
    "**In drug development, solvent selection depends on these trends:**\n",
    "- If a compound is **lipophilic** (high or positive XLogP), solvents like **chloroform, DMSO, or methanol** are better suited.\n",
    "- If a compound is **hydrophilic** (negative XLogP), solvents like **water, buffer solutions, or ethanol** are more appropriate.\n",
    "\n",
    "Thus, by studying molecular weight and XLogP trends, scientists can **choose the right solvent** to maximize a drug’s **solubility, stability, and effectiveness** during formulation.\n"
   ]
  },
  {
   "cell_type": "code",
   "execution_count": 13,
   "id": "e28c9b9a-d896-46ac-b531-2fdf791609ec",
   "metadata": {},
   "outputs": [
    {
     "data": {
      "image/png": "[encoded data removed]",
      "text/plain": [
       "<Figure size 1200x600 with 1 Axes>"
      ]
     },
     "metadata": {},
     "output_type": "display_data"
    }
   ],
   "source": [
    "plt.figure(figsize=(12,6))\n",
    "plt.bar(df_cleaned['CID'], df_cleaned['XLogP'], color='purple')\n",
    "plt.xlabel('CID')\n",
    "plt.ylabel('XLogP')\n",
    "plt.title('LogP vs Compound Name')\n",
    "plt.xticks(rotation=90)\n",
    "plt.grid(True)\n",
    "plt.show()\n"
   ]
  },
  {
   "cell_type": "markdown",
   "id": "54cb5f20-96d1-4842-9f00-1b299e8477b4",
   "metadata": {},
   "source": [
    "### Explanation:\n",
    "\n",
    "The graph shows the relationship between **Compound ID (CID)** and **XLogP** values.\n",
    "\n",
    "- Compounds with **lower CID values** are not necessarily related to a specific property, but based on the plot, you can see most compounds have **negative XLogP values**.\n",
    "- **Negative XLogP** suggests that these compounds are **more hydrophilic** (water-loving) and are **better soluble in polar solvents** like **water, ethanol, or methanol**.\n",
    "\n",
    "**In drug development, this trend is important because:**\n",
    "- **Hydrophilic drugs** require **polar solvents** for formulation and delivery.\n",
    "- Correct solvent selection based on LogP ensures **better drug stability, absorption, and bioavailability**.\n",
    "\n",
    "Thus, analyzing trends like **CID vs XLogP** helps in choosing the **optimal solvent** for the compound during **formulation and testing** stages in drug development.\n"
   ]
  },
  {
   "cell_type": "code",
   "execution_count": null,
   "id": "03de6983-995c-4fb0-8dec-3a4ba449f666",
   "metadata": {},
   "outputs": [],
   "source": []
  }
 ],
 "metadata": {
  "kernelspec": {
   "display_name": "Python 3 (ipykernel)",
   "language": "python",
   "name": "python3"
  },
  "language_info": {
   "codemirror_mode": {
    "name": "ipython",
    "version": 3
   },
   "file_extension": ".py",
   "mimetype": "text/x-python",
   "name": "python",
   "nbconvert_exporter": "python",
   "pygments_lexer": "ipython3",
   "version": "3.12.7"
  }
 },
 "nbformat": 4,
 "nbformat_minor": 5
}
